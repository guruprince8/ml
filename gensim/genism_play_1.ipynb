{
 "cells": [
  {
   "cell_type": "code",
   "execution_count": 1,
   "id": "cc446197",
   "metadata": {},
   "outputs": [],
   "source": [
    "import pprint"
   ]
  },
  {
   "cell_type": "code",
   "execution_count": 2,
   "id": "9b7de8c6",
   "metadata": {},
   "outputs": [
    {
     "data": {
      "text/plain": [
       "<module 'pprint' from '/Users/gurubrahmanadamekambaram/anaconda3/lib/python3.11/pprint.py'>"
      ]
     },
     "execution_count": 2,
     "metadata": {},
     "output_type": "execute_result"
    }
   ],
   "source": [
    "pprint"
   ]
  },
  {
   "cell_type": "code",
   "execution_count": 3,
   "id": "2b177c19",
   "metadata": {},
   "outputs": [],
   "source": [
    "document = \"Human machine interface for lab abc computer applications\""
   ]
  },
  {
   "cell_type": "code",
   "execution_count": 4,
   "id": "49028d2c",
   "metadata": {},
   "outputs": [
    {
     "data": {
      "text/plain": [
       "'Human machine interface for lab abc computer applications'"
      ]
     },
     "execution_count": 4,
     "metadata": {},
     "output_type": "execute_result"
    }
   ],
   "source": [
    "document"
   ]
  },
  {
   "cell_type": "code",
   "execution_count": 5,
   "id": "ac888451",
   "metadata": {},
   "outputs": [],
   "source": [
    "text_corpus = [\n",
    "    \"Human machine interface for lab abc computer applications\",\n",
    "    \"A survey of user opinion of computer system response time\",\n",
    "    \"The EPS user interface management system\",\n",
    "    \"System and human system engineering testing of EPS\",\n",
    "    \"Relation of user perceived response time to error measurement\",\n",
    "    \"The generation of random binary unordered trees\",\n",
    "    \"The intersection graph of paths in trees\",\n",
    "    \"Graph minors IV Widths of trees and well quasi ordering\",\n",
    "    \"Graph minors A survey\",\n",
    "]"
   ]
  },
  {
   "cell_type": "code",
   "execution_count": 11,
   "id": "8abe878c",
   "metadata": {
    "scrolled": true
   },
   "outputs": [
    {
     "data": {
      "text/plain": [
       "['Human machine interface for lab abc computer applications',\n",
       " 'A survey of user opinion of computer system response time',\n",
       " 'The EPS user interface management system',\n",
       " 'System and human system engineering testing of EPS',\n",
       " 'Relation of user perceived response time to error measurement',\n",
       " 'The generation of random binary unordered trees',\n",
       " 'The intersection graph of paths in trees',\n",
       " 'Graph minors IV Widths of trees and well quasi ordering',\n",
       " 'Graph minors A survey']"
      ]
     },
     "execution_count": 11,
     "metadata": {},
     "output_type": "execute_result"
    }
   ],
   "source": [
    "text_corpus"
   ]
  },
  {
   "cell_type": "code",
   "execution_count": 7,
   "id": "9871f19d",
   "metadata": {},
   "outputs": [
    {
     "data": {
      "text/plain": [
       "'Graph minors IV Widths of trees and well quasi ordering'"
      ]
     },
     "execution_count": 7,
     "metadata": {},
     "output_type": "execute_result"
    }
   ],
   "source": [
    "text_corpus[-2]"
   ]
  },
  {
   "cell_type": "code",
   "execution_count": 8,
   "id": "769ca54b",
   "metadata": {},
   "outputs": [
    {
     "ename": "IndexError",
     "evalue": "list index out of range",
     "output_type": "error",
     "traceback": [
      "\u001b[0;31m---------------------------------------------------------------------------\u001b[0m",
      "\u001b[0;31mIndexError\u001b[0m                                Traceback (most recent call last)",
      "Cell \u001b[0;32mIn[8], line 1\u001b[0m\n\u001b[0;32m----> 1\u001b[0m text_corpus[\u001b[38;5;241m100\u001b[39m]\n",
      "\u001b[0;31mIndexError\u001b[0m: list index out of range"
     ]
    }
   ],
   "source": [
    "text_corpus[100]"
   ]
  },
  {
   "cell_type": "code",
   "execution_count": 9,
   "id": "9f57e7e1",
   "metadata": {},
   "outputs": [],
   "source": [
    "stoplist = set('for a of the and to in'.split(' '))"
   ]
  },
  {
   "cell_type": "code",
   "execution_count": 10,
   "id": "9f7efab8",
   "metadata": {},
   "outputs": [
    {
     "data": {
      "text/plain": [
       "{'a', 'and', 'for', 'in', 'of', 'the', 'to'}"
      ]
     },
     "execution_count": 10,
     "metadata": {},
     "output_type": "execute_result"
    }
   ],
   "source": [
    "stoplist"
   ]
  },
  {
   "cell_type": "code",
   "execution_count": 12,
   "id": "34d147bb",
   "metadata": {},
   "outputs": [],
   "source": [
    "spam = 1"
   ]
  },
  {
   "cell_type": "code",
   "execution_count": 13,
   "id": "d452cbee",
   "metadata": {},
   "outputs": [
    {
     "data": {
      "text/plain": [
       "1"
      ]
     },
     "execution_count": 13,
     "metadata": {},
     "output_type": "execute_result"
    }
   ],
   "source": [
    "spam"
   ]
  },
  {
   "cell_type": "code",
   "execution_count": 14,
   "id": "364f95e9",
   "metadata": {},
   "outputs": [],
   "source": [
    "text = \"# This is not a comment because it's inside quotes.\""
   ]
  },
  {
   "cell_type": "code",
   "execution_count": 15,
   "id": "109279ec",
   "metadata": {},
   "outputs": [
    {
     "data": {
      "text/plain": [
       "str"
      ]
     },
     "execution_count": 15,
     "metadata": {},
     "output_type": "execute_result"
    }
   ],
   "source": [
    "type(text)"
   ]
  },
  {
   "cell_type": "code",
   "execution_count": 16,
   "id": "263eb8aa",
   "metadata": {},
   "outputs": [
    {
     "data": {
      "text/plain": [
       "int"
      ]
     },
     "execution_count": 16,
     "metadata": {},
     "output_type": "execute_result"
    }
   ],
   "source": [
    "type(spam)"
   ]
  },
  {
   "cell_type": "code",
   "execution_count": 17,
   "id": "11cc5b41",
   "metadata": {},
   "outputs": [
    {
     "data": {
      "text/plain": [
       "5.666666666666667"
      ]
     },
     "execution_count": 17,
     "metadata": {},
     "output_type": "execute_result"
    }
   ],
   "source": [
    "17/3"
   ]
  },
  {
   "cell_type": "code",
   "execution_count": 18,
   "id": "c302741f",
   "metadata": {},
   "outputs": [
    {
     "data": {
      "text/plain": [
       "float"
      ]
     },
     "execution_count": 18,
     "metadata": {},
     "output_type": "execute_result"
    }
   ],
   "source": [
    "type(17/3)"
   ]
  },
  {
   "cell_type": "code",
   "execution_count": 19,
   "id": "9f9fecce",
   "metadata": {},
   "outputs": [],
   "source": [
    "width = 20 * 19.100000789887"
   ]
  },
  {
   "cell_type": "code",
   "execution_count": 20,
   "id": "f2f3f5de",
   "metadata": {},
   "outputs": [
    {
     "data": {
      "text/plain": [
       "382.00001579774005"
      ]
     },
     "execution_count": 20,
     "metadata": {},
     "output_type": "execute_result"
    }
   ],
   "source": [
    "width"
   ]
  },
  {
   "cell_type": "code",
   "execution_count": 21,
   "id": "e048106e",
   "metadata": {},
   "outputs": [
    {
     "ename": "SyntaxError",
     "evalue": "invalid syntax (638633167.py, line 1)",
     "output_type": "error",
     "traceback": [
      "\u001b[0;36m  Cell \u001b[0;32mIn[21], line 1\u001b[0;36m\u001b[0m\n\u001b[0;31m    texts = [for document in text_corpus]\u001b[0m\n\u001b[0m             ^\u001b[0m\n\u001b[0;31mSyntaxError\u001b[0m\u001b[0;31m:\u001b[0m invalid syntax\n"
     ]
    }
   ],
   "source": [
    "texts = [for document in text_corpus]"
   ]
  },
  {
   "cell_type": "code",
   "execution_count": 22,
   "id": "3e6042f6",
   "metadata": {},
   "outputs": [],
   "source": [
    "texts = [[document] for document in text_corpus]"
   ]
  },
  {
   "cell_type": "code",
   "execution_count": 23,
   "id": "a9231bf0",
   "metadata": {},
   "outputs": [
    {
     "data": {
      "text/plain": [
       "[['Human machine interface for lab abc computer applications'],\n",
       " ['A survey of user opinion of computer system response time'],\n",
       " ['The EPS user interface management system'],\n",
       " ['System and human system engineering testing of EPS'],\n",
       " ['Relation of user perceived response time to error measurement'],\n",
       " ['The generation of random binary unordered trees'],\n",
       " ['The intersection graph of paths in trees'],\n",
       " ['Graph minors IV Widths of trees and well quasi ordering'],\n",
       " ['Graph minors A survey']]"
      ]
     },
     "execution_count": 23,
     "metadata": {},
     "output_type": "execute_result"
    }
   ],
   "source": [
    "texts"
   ]
  },
  {
   "cell_type": "code",
   "execution_count": 24,
   "id": "a7c1fced",
   "metadata": {},
   "outputs": [],
   "source": [
    "texts = [[word for word in document.split() if word not in stoplist] for document in text_corpus]"
   ]
  },
  {
   "cell_type": "code",
   "execution_count": 25,
   "id": "cbe4ad29",
   "metadata": {},
   "outputs": [
    {
     "data": {
      "text/plain": [
       "[['Human', 'machine', 'interface', 'lab', 'abc', 'computer', 'applications'],\n",
       " ['A', 'survey', 'user', 'opinion', 'computer', 'system', 'response', 'time'],\n",
       " ['The', 'EPS', 'user', 'interface', 'management', 'system'],\n",
       " ['System', 'human', 'system', 'engineering', 'testing', 'EPS'],\n",
       " ['Relation', 'user', 'perceived', 'response', 'time', 'error', 'measurement'],\n",
       " ['The', 'generation', 'random', 'binary', 'unordered', 'trees'],\n",
       " ['The', 'intersection', 'graph', 'paths', 'trees'],\n",
       " ['Graph', 'minors', 'IV', 'Widths', 'trees', 'well', 'quasi', 'ordering'],\n",
       " ['Graph', 'minors', 'A', 'survey']]"
      ]
     },
     "execution_count": 25,
     "metadata": {},
     "output_type": "execute_result"
    }
   ],
   "source": [
    "texts"
   ]
  },
  {
   "cell_type": "code",
   "execution_count": 26,
   "id": "d77859e5",
   "metadata": {},
   "outputs": [
    {
     "data": {
      "text/plain": [
       "['Human', 'machine', 'interface', 'lab', 'abc', 'computer', 'applications']"
      ]
     },
     "execution_count": 26,
     "metadata": {},
     "output_type": "execute_result"
    }
   ],
   "source": [
    "texts[0]"
   ]
  },
  {
   "cell_type": "code",
   "execution_count": 27,
   "id": "436684d8",
   "metadata": {},
   "outputs": [],
   "source": [
    "from collections import defaultdict"
   ]
  },
  {
   "cell_type": "code",
   "execution_count": 28,
   "id": "b057fd71",
   "metadata": {},
   "outputs": [],
   "source": [
    "frequency = defaultdict(int)"
   ]
  },
  {
   "cell_type": "code",
   "execution_count": 29,
   "id": "2aa4c9ad",
   "metadata": {},
   "outputs": [
    {
     "ename": "NameError",
     "evalue": "name 'frquency' is not defined",
     "output_type": "error",
     "traceback": [
      "\u001b[0;31m---------------------------------------------------------------------------\u001b[0m",
      "\u001b[0;31mNameError\u001b[0m                                 Traceback (most recent call last)",
      "Cell \u001b[0;32mIn[29], line 1\u001b[0m\n\u001b[0;32m----> 1\u001b[0m frquency\n",
      "\u001b[0;31mNameError\u001b[0m: name 'frquency' is not defined"
     ]
    }
   ],
   "source": [
    "frquency"
   ]
  },
  {
   "cell_type": "code",
   "execution_count": 30,
   "id": "ed4db5c5",
   "metadata": {},
   "outputs": [
    {
     "data": {
      "text/plain": [
       "defaultdict(int, {})"
      ]
     },
     "execution_count": 30,
     "metadata": {},
     "output_type": "execute_result"
    }
   ],
   "source": [
    "frequency"
   ]
  },
  {
   "cell_type": "code",
   "execution_count": 31,
   "id": "40992fff",
   "metadata": {},
   "outputs": [],
   "source": [
    "for text in texts:\n",
    "    for word in text:\n",
    "        frequency[word] += 1"
   ]
  },
  {
   "cell_type": "code",
   "execution_count": 32,
   "id": "5467acae",
   "metadata": {},
   "outputs": [
    {
     "data": {
      "text/plain": [
       "defaultdict(int,\n",
       "            {'Human': 1,\n",
       "             'machine': 1,\n",
       "             'interface': 2,\n",
       "             'lab': 1,\n",
       "             'abc': 1,\n",
       "             'computer': 2,\n",
       "             'applications': 1,\n",
       "             'A': 2,\n",
       "             'survey': 2,\n",
       "             'user': 3,\n",
       "             'opinion': 1,\n",
       "             'system': 3,\n",
       "             'response': 2,\n",
       "             'time': 2,\n",
       "             'The': 3,\n",
       "             'EPS': 2,\n",
       "             'management': 1,\n",
       "             'System': 1,\n",
       "             'human': 1,\n",
       "             'engineering': 1,\n",
       "             'testing': 1,\n",
       "             'Relation': 1,\n",
       "             'perceived': 1,\n",
       "             'error': 1,\n",
       "             'measurement': 1,\n",
       "             'generation': 1,\n",
       "             'random': 1,\n",
       "             'binary': 1,\n",
       "             'unordered': 1,\n",
       "             'trees': 3,\n",
       "             'intersection': 1,\n",
       "             'graph': 1,\n",
       "             'paths': 1,\n",
       "             'Graph': 2,\n",
       "             'minors': 2,\n",
       "             'IV': 1,\n",
       "             'Widths': 1,\n",
       "             'well': 1,\n",
       "             'quasi': 1,\n",
       "             'ordering': 1})"
      ]
     },
     "execution_count": 32,
     "metadata": {},
     "output_type": "execute_result"
    }
   ],
   "source": [
    "frequency"
   ]
  },
  {
   "cell_type": "code",
   "execution_count": 33,
   "id": "eb5a3c35",
   "metadata": {},
   "outputs": [],
   "source": [
    "processed_corpus = [[token for token in text if frequency[token] > 1 ] for text in texts]"
   ]
  },
  {
   "cell_type": "code",
   "execution_count": 34,
   "id": "b88ba93f",
   "metadata": {},
   "outputs": [
    {
     "data": {
      "text/plain": [
       "[[], ['A'], [], [], [], [], [], [], ['A']]"
      ]
     },
     "execution_count": 34,
     "metadata": {},
     "output_type": "execute_result"
    }
   ],
   "source": [
    "processed_corpus"
   ]
  },
  {
   "cell_type": "code",
   "execution_count": 35,
   "id": "1b61bd08",
   "metadata": {},
   "outputs": [
    {
     "name": "stdout",
     "output_type": "stream",
     "text": [
      "[[], ['A'], [], [], [], [], [], [], ['A']]\n"
     ]
    }
   ],
   "source": [
    "pprint.pprint(processed_corpus)"
   ]
  },
  {
   "cell_type": "code",
   "execution_count": 36,
   "id": "4e5530ff",
   "metadata": {},
   "outputs": [],
   "source": [
    "processed_corpus = [[token for token in text if frequency[token] > 1 ] for text in texts]"
   ]
  },
  {
   "cell_type": "code",
   "execution_count": 37,
   "id": "e548acb1",
   "metadata": {},
   "outputs": [
    {
     "data": {
      "text/plain": [
       "[['interface', 'computer'],\n",
       " ['A', 'survey', 'user', 'computer', 'system', 'response', 'time'],\n",
       " ['The', 'EPS', 'user', 'interface', 'system'],\n",
       " ['system', 'EPS'],\n",
       " ['user', 'response', 'time'],\n",
       " ['The', 'trees'],\n",
       " ['The', 'trees'],\n",
       " ['Graph', 'minors', 'trees'],\n",
       " ['Graph', 'minors', 'A', 'survey']]"
      ]
     },
     "execution_count": 37,
     "metadata": {},
     "output_type": "execute_result"
    }
   ],
   "source": [
    "processed_corpus"
   ]
  },
  {
   "cell_type": "code",
   "execution_count": 38,
   "id": "2d265e47",
   "metadata": {},
   "outputs": [
    {
     "name": "stdout",
     "output_type": "stream",
     "text": [
      "[['interface', 'computer'],\n",
      " ['A', 'survey', 'user', 'computer', 'system', 'response', 'time'],\n",
      " ['The', 'EPS', 'user', 'interface', 'system'],\n",
      " ['system', 'EPS'],\n",
      " ['user', 'response', 'time'],\n",
      " ['The', 'trees'],\n",
      " ['The', 'trees'],\n",
      " ['Graph', 'minors', 'trees'],\n",
      " ['Graph', 'minors', 'A', 'survey']]\n"
     ]
    }
   ],
   "source": [
    "pprint.pprint(processed_corpus)"
   ]
  },
  {
   "cell_type": "code",
   "execution_count": 39,
   "id": "a0e84b27",
   "metadata": {},
   "outputs": [],
   "source": [
    "texts = [[word for word in document.lower().split() if word not in stoplist] for document in text_corpus]"
   ]
  },
  {
   "cell_type": "code",
   "execution_count": 40,
   "id": "01262511",
   "metadata": {},
   "outputs": [
    {
     "data": {
      "text/plain": [
       "[['human', 'machine', 'interface', 'lab', 'abc', 'computer', 'applications'],\n",
       " ['survey', 'user', 'opinion', 'computer', 'system', 'response', 'time'],\n",
       " ['eps', 'user', 'interface', 'management', 'system'],\n",
       " ['system', 'human', 'system', 'engineering', 'testing', 'eps'],\n",
       " ['relation', 'user', 'perceived', 'response', 'time', 'error', 'measurement'],\n",
       " ['generation', 'random', 'binary', 'unordered', 'trees'],\n",
       " ['intersection', 'graph', 'paths', 'trees'],\n",
       " ['graph', 'minors', 'iv', 'widths', 'trees', 'well', 'quasi', 'ordering'],\n",
       " ['graph', 'minors', 'survey']]"
      ]
     },
     "execution_count": 40,
     "metadata": {},
     "output_type": "execute_result"
    }
   ],
   "source": [
    "texts"
   ]
  },
  {
   "cell_type": "code",
   "execution_count": 41,
   "id": "87dff214",
   "metadata": {},
   "outputs": [],
   "source": [
    "for text in texts:\n",
    "    for word in text:\n",
    "        frequency[word] += 1"
   ]
  },
  {
   "cell_type": "code",
   "execution_count": 42,
   "id": "608e5f3a",
   "metadata": {},
   "outputs": [
    {
     "data": {
      "text/plain": [
       "defaultdict(int,\n",
       "            {'Human': 1,\n",
       "             'machine': 2,\n",
       "             'interface': 4,\n",
       "             'lab': 2,\n",
       "             'abc': 2,\n",
       "             'computer': 4,\n",
       "             'applications': 2,\n",
       "             'A': 2,\n",
       "             'survey': 4,\n",
       "             'user': 6,\n",
       "             'opinion': 2,\n",
       "             'system': 7,\n",
       "             'response': 4,\n",
       "             'time': 4,\n",
       "             'The': 3,\n",
       "             'EPS': 2,\n",
       "             'management': 2,\n",
       "             'System': 1,\n",
       "             'human': 3,\n",
       "             'engineering': 2,\n",
       "             'testing': 2,\n",
       "             'Relation': 1,\n",
       "             'perceived': 2,\n",
       "             'error': 2,\n",
       "             'measurement': 2,\n",
       "             'generation': 2,\n",
       "             'random': 2,\n",
       "             'binary': 2,\n",
       "             'unordered': 2,\n",
       "             'trees': 6,\n",
       "             'intersection': 2,\n",
       "             'graph': 4,\n",
       "             'paths': 2,\n",
       "             'Graph': 2,\n",
       "             'minors': 4,\n",
       "             'IV': 1,\n",
       "             'Widths': 1,\n",
       "             'well': 2,\n",
       "             'quasi': 2,\n",
       "             'ordering': 2,\n",
       "             'H': 0,\n",
       "             'u': 0,\n",
       "             'm': 0,\n",
       "             'a': 0,\n",
       "             'n': 0,\n",
       "             ' ': 0,\n",
       "             'c': 0,\n",
       "             'h': 0,\n",
       "             'i': 0,\n",
       "             'e': 0,\n",
       "             't': 0,\n",
       "             'r': 0,\n",
       "             'f': 0,\n",
       "             'o': 0,\n",
       "             'l': 0,\n",
       "             'b': 0,\n",
       "             'p': 0,\n",
       "             's': 0,\n",
       "             'v': 0,\n",
       "             'y': 0,\n",
       "             'T': 0,\n",
       "             'E': 0,\n",
       "             'P': 0,\n",
       "             'S': 0,\n",
       "             'g': 0,\n",
       "             'd': 0,\n",
       "             'R': 0,\n",
       "             'G': 0,\n",
       "             'I': 0,\n",
       "             'V': 0,\n",
       "             'W': 0,\n",
       "             'w': 0,\n",
       "             'q': 0,\n",
       "             'eps': 2,\n",
       "             'relation': 1,\n",
       "             'iv': 1,\n",
       "             'widths': 1})"
      ]
     },
     "execution_count": 42,
     "metadata": {},
     "output_type": "execute_result"
    }
   ],
   "source": [
    "frequency"
   ]
  },
  {
   "cell_type": "code",
   "execution_count": 43,
   "id": "c503411d",
   "metadata": {},
   "outputs": [],
   "source": [
    "frequency = defaultdict(int)"
   ]
  },
  {
   "cell_type": "code",
   "execution_count": 44,
   "id": "28303692",
   "metadata": {},
   "outputs": [],
   "source": [
    "for text in texts:\n",
    "    for word in text:\n",
    "        frequency[word] += 1"
   ]
  },
  {
   "cell_type": "code",
   "execution_count": 45,
   "id": "dede9c7a",
   "metadata": {},
   "outputs": [
    {
     "data": {
      "text/plain": [
       "defaultdict(int,\n",
       "            {'human': 2,\n",
       "             'machine': 1,\n",
       "             'interface': 2,\n",
       "             'lab': 1,\n",
       "             'abc': 1,\n",
       "             'computer': 2,\n",
       "             'applications': 1,\n",
       "             'survey': 2,\n",
       "             'user': 3,\n",
       "             'opinion': 1,\n",
       "             'system': 4,\n",
       "             'response': 2,\n",
       "             'time': 2,\n",
       "             'eps': 2,\n",
       "             'management': 1,\n",
       "             'engineering': 1,\n",
       "             'testing': 1,\n",
       "             'relation': 1,\n",
       "             'perceived': 1,\n",
       "             'error': 1,\n",
       "             'measurement': 1,\n",
       "             'generation': 1,\n",
       "             'random': 1,\n",
       "             'binary': 1,\n",
       "             'unordered': 1,\n",
       "             'trees': 3,\n",
       "             'intersection': 1,\n",
       "             'graph': 3,\n",
       "             'paths': 1,\n",
       "             'minors': 2,\n",
       "             'iv': 1,\n",
       "             'widths': 1,\n",
       "             'well': 1,\n",
       "             'quasi': 1,\n",
       "             'ordering': 1})"
      ]
     },
     "execution_count": 45,
     "metadata": {},
     "output_type": "execute_result"
    }
   ],
   "source": [
    "frequency"
   ]
  },
  {
   "cell_type": "code",
   "execution_count": 46,
   "id": "d6b0b6f6",
   "metadata": {},
   "outputs": [],
   "source": [
    "processed_corpus = [[token for token in text if frequency[token] > 1 ] for text in texts]"
   ]
  },
  {
   "cell_type": "code",
   "execution_count": 47,
   "id": "badff94a",
   "metadata": {},
   "outputs": [
    {
     "data": {
      "text/plain": [
       "[['human', 'interface', 'computer'],\n",
       " ['survey', 'user', 'computer', 'system', 'response', 'time'],\n",
       " ['eps', 'user', 'interface', 'system'],\n",
       " ['system', 'human', 'system', 'eps'],\n",
       " ['user', 'response', 'time'],\n",
       " ['trees'],\n",
       " ['graph', 'trees'],\n",
       " ['graph', 'minors', 'trees'],\n",
       " ['graph', 'minors', 'survey']]"
      ]
     },
     "execution_count": 47,
     "metadata": {},
     "output_type": "execute_result"
    }
   ],
   "source": [
    "processed_corpus"
   ]
  },
  {
   "cell_type": "code",
   "execution_count": 48,
   "id": "347c2959",
   "metadata": {},
   "outputs": [
    {
     "name": "stdout",
     "output_type": "stream",
     "text": [
      "[['human', 'interface', 'computer'],\n",
      " ['survey', 'user', 'computer', 'system', 'response', 'time'],\n",
      " ['eps', 'user', 'interface', 'system'],\n",
      " ['system', 'human', 'system', 'eps'],\n",
      " ['user', 'response', 'time'],\n",
      " ['trees'],\n",
      " ['graph', 'trees'],\n",
      " ['graph', 'minors', 'trees'],\n",
      " ['graph', 'minors', 'survey']]\n"
     ]
    }
   ],
   "source": [
    "pprint.pprint(processed_corpus)"
   ]
  },
  {
   "cell_type": "code",
   "execution_count": 49,
   "id": "8ee4d5b2",
   "metadata": {},
   "outputs": [],
   "source": [
    "from gensim import corpora"
   ]
  },
  {
   "cell_type": "code",
   "execution_count": 50,
   "id": "ddc821ca",
   "metadata": {},
   "outputs": [],
   "source": [
    "dictionary = corpora.Dictionary(processed_corpus)"
   ]
  },
  {
   "cell_type": "code",
   "execution_count": 51,
   "id": "061a92e1",
   "metadata": {},
   "outputs": [
    {
     "name": "stdout",
     "output_type": "stream",
     "text": [
      "Dictionary<12 unique tokens: ['computer', 'human', 'interface', 'response', 'survey']...>\n"
     ]
    }
   ],
   "source": [
    "print(dictionary)"
   ]
  },
  {
   "cell_type": "code",
   "execution_count": 52,
   "id": "a33c65a4",
   "metadata": {},
   "outputs": [
    {
     "data": {
      "text/plain": [
       "<gensim.corpora.dictionary.Dictionary at 0x107aeff50>"
      ]
     },
     "execution_count": 52,
     "metadata": {},
     "output_type": "execute_result"
    }
   ],
   "source": [
    "dictionary"
   ]
  },
  {
   "cell_type": "code",
   "execution_count": 53,
   "id": "2a731d17",
   "metadata": {},
   "outputs": [
    {
     "name": "stdout",
     "output_type": "stream",
     "text": [
      "{'computer': 0,\n",
      " 'eps': 8,\n",
      " 'graph': 10,\n",
      " 'human': 1,\n",
      " 'interface': 2,\n",
      " 'minors': 11,\n",
      " 'response': 3,\n",
      " 'survey': 4,\n",
      " 'system': 5,\n",
      " 'time': 6,\n",
      " 'trees': 9,\n",
      " 'user': 7}\n"
     ]
    }
   ],
   "source": [
    "pprint.pprint(dictionary.token2id)\n"
   ]
  },
  {
   "cell_type": "code",
   "execution_count": 54,
   "id": "3edde773",
   "metadata": {},
   "outputs": [],
   "source": [
    "new_doc = \"Human computer interaction\""
   ]
  },
  {
   "cell_type": "code",
   "execution_count": 55,
   "id": "b13a2ded",
   "metadata": {},
   "outputs": [],
   "source": [
    "new_vec = new_doc.lower().split()"
   ]
  },
  {
   "cell_type": "code",
   "execution_count": 56,
   "id": "edcfb0df",
   "metadata": {},
   "outputs": [
    {
     "data": {
      "text/plain": [
       "['human', 'computer', 'interaction']"
      ]
     },
     "execution_count": 56,
     "metadata": {},
     "output_type": "execute_result"
    }
   ],
   "source": [
    "new_vec"
   ]
  },
  {
   "cell_type": "code",
   "execution_count": 57,
   "id": "7112abeb",
   "metadata": {},
   "outputs": [],
   "source": [
    "new_vec = dictionary.doc2bow(new_doc.lower().split())"
   ]
  },
  {
   "cell_type": "code",
   "execution_count": 58,
   "id": "2b873fbd",
   "metadata": {},
   "outputs": [
    {
     "data": {
      "text/plain": [
       "[(0, 1), (1, 1)]"
      ]
     },
     "execution_count": 58,
     "metadata": {},
     "output_type": "execute_result"
    }
   ],
   "source": [
    "new_vec"
   ]
  },
  {
   "cell_type": "code",
   "execution_count": 59,
   "id": "ec30fc03",
   "metadata": {},
   "outputs": [],
   "source": [
    "tel = {'jack': 4098, 'sape': 4139}"
   ]
  },
  {
   "cell_type": "code",
   "execution_count": 60,
   "id": "a4ba5ea9",
   "metadata": {},
   "outputs": [
    {
     "data": {
      "text/plain": [
       "{'jack': 4098, 'sape': 4139}"
      ]
     },
     "execution_count": 60,
     "metadata": {},
     "output_type": "execute_result"
    }
   ],
   "source": [
    "tel"
   ]
  },
  {
   "cell_type": "code",
   "execution_count": 61,
   "id": "7435b377",
   "metadata": {},
   "outputs": [
    {
     "data": {
      "text/plain": [
       "4098"
      ]
     },
     "execution_count": 61,
     "metadata": {},
     "output_type": "execute_result"
    }
   ],
   "source": [
    "tel['jack']"
   ]
  },
  {
   "cell_type": "code",
   "execution_count": 62,
   "id": "d50cc135",
   "metadata": {},
   "outputs": [
    {
     "data": {
      "text/plain": [
       "['jack', 'sape']"
      ]
     },
     "execution_count": 62,
     "metadata": {},
     "output_type": "execute_result"
    }
   ],
   "source": [
    "list(tel)"
   ]
  },
  {
   "cell_type": "code",
   "execution_count": 63,
   "id": "41237c40",
   "metadata": {},
   "outputs": [
    {
     "data": {
      "text/plain": [
       "['jack', 'sape']"
      ]
     },
     "execution_count": 63,
     "metadata": {},
     "output_type": "execute_result"
    }
   ],
   "source": [
    "sorted(tel)"
   ]
  },
  {
   "cell_type": "code",
   "execution_count": 64,
   "id": "33d9ff9a",
   "metadata": {},
   "outputs": [
    {
     "data": {
      "text/plain": [
       "False"
      ]
     },
     "execution_count": 64,
     "metadata": {},
     "output_type": "execute_result"
    }
   ],
   "source": [
    "'guido' in tel"
   ]
  },
  {
   "cell_type": "code",
   "execution_count": 65,
   "id": "f952424a",
   "metadata": {},
   "outputs": [
    {
     "data": {
      "text/plain": [
       "False"
      ]
     },
     "execution_count": 65,
     "metadata": {},
     "output_type": "execute_result"
    }
   ],
   "source": [
    "'jack' not in tel"
   ]
  },
  {
   "cell_type": "code",
   "execution_count": 66,
   "id": "c98a7b27",
   "metadata": {},
   "outputs": [],
   "source": [
    "fruits = ['orange', 'apple', 'pear', 'banana', 'kiwi', 'apple', 'banana']"
   ]
  },
  {
   "cell_type": "code",
   "execution_count": 67,
   "id": "86ac501a",
   "metadata": {},
   "outputs": [
    {
     "data": {
      "text/plain": [
       "['orange', 'apple', 'pear', 'banana', 'kiwi', 'apple', 'banana']"
      ]
     },
     "execution_count": 67,
     "metadata": {},
     "output_type": "execute_result"
    }
   ],
   "source": [
    "fruits"
   ]
  },
  {
   "cell_type": "code",
   "execution_count": 68,
   "id": "e68c11b2",
   "metadata": {},
   "outputs": [
    {
     "data": {
      "text/plain": [
       "2"
      ]
     },
     "execution_count": 68,
     "metadata": {},
     "output_type": "execute_result"
    }
   ],
   "source": [
    "fruits.count('apple')"
   ]
  },
  {
   "cell_type": "code",
   "execution_count": 69,
   "id": "b3060144",
   "metadata": {},
   "outputs": [
    {
     "data": {
      "text/plain": [
       "0"
      ]
     },
     "execution_count": 69,
     "metadata": {},
     "output_type": "execute_result"
    }
   ],
   "source": [
    "fruits.count('tangerine')"
   ]
  },
  {
   "cell_type": "code",
   "execution_count": 70,
   "id": "9f28982a",
   "metadata": {},
   "outputs": [
    {
     "data": {
      "text/plain": [
       "3"
      ]
     },
     "execution_count": 70,
     "metadata": {},
     "output_type": "execute_result"
    }
   ],
   "source": [
    "fruits.index('banana')"
   ]
  },
  {
   "cell_type": "code",
   "execution_count": 71,
   "id": "2f452f5c",
   "metadata": {},
   "outputs": [
    {
     "data": {
      "text/plain": [
       "6"
      ]
     },
     "execution_count": 71,
     "metadata": {},
     "output_type": "execute_result"
    }
   ],
   "source": [
    "fruits.index('banana', 4)"
   ]
  },
  {
   "cell_type": "code",
   "execution_count": 72,
   "id": "4d2bb823",
   "metadata": {},
   "outputs": [],
   "source": [
    "fruits.reverse()"
   ]
  },
  {
   "cell_type": "code",
   "execution_count": 73,
   "id": "65ec9b03",
   "metadata": {},
   "outputs": [
    {
     "data": {
      "text/plain": [
       "['banana', 'apple', 'kiwi', 'banana', 'pear', 'apple', 'orange']"
      ]
     },
     "execution_count": 73,
     "metadata": {},
     "output_type": "execute_result"
    }
   ],
   "source": [
    "fruits"
   ]
  },
  {
   "cell_type": "code",
   "execution_count": 74,
   "id": "13474e93",
   "metadata": {},
   "outputs": [],
   "source": [
    "fruits.append('grape')"
   ]
  },
  {
   "cell_type": "code",
   "execution_count": 75,
   "id": "a588ec62",
   "metadata": {},
   "outputs": [
    {
     "data": {
      "text/plain": [
       "['banana', 'apple', 'kiwi', 'banana', 'pear', 'apple', 'orange', 'grape']"
      ]
     },
     "execution_count": 75,
     "metadata": {},
     "output_type": "execute_result"
    }
   ],
   "source": [
    "fruits"
   ]
  },
  {
   "cell_type": "code",
   "execution_count": 76,
   "id": "63c56362",
   "metadata": {},
   "outputs": [],
   "source": [
    "del fruits"
   ]
  },
  {
   "cell_type": "code",
   "execution_count": 77,
   "id": "61da2d8f",
   "metadata": {},
   "outputs": [
    {
     "ename": "NameError",
     "evalue": "name 'fruits' is not defined",
     "output_type": "error",
     "traceback": [
      "\u001b[0;31m---------------------------------------------------------------------------\u001b[0m",
      "\u001b[0;31mNameError\u001b[0m                                 Traceback (most recent call last)",
      "Cell \u001b[0;32mIn[77], line 1\u001b[0m\n\u001b[0;32m----> 1\u001b[0m fruits\n",
      "\u001b[0;31mNameError\u001b[0m: name 'fruits' is not defined"
     ]
    }
   ],
   "source": [
    "fruits"
   ]
  },
  {
   "cell_type": "code",
   "execution_count": 78,
   "id": "ce76dc35",
   "metadata": {},
   "outputs": [
    {
     "data": {
      "text/plain": [
       "<map at 0x12c5eafe0>"
      ]
     },
     "execution_count": 78,
     "metadata": {},
     "output_type": "execute_result"
    }
   ],
   "source": [
    "map(lambda x: x**2, range(10))"
   ]
  },
  {
   "cell_type": "code",
   "execution_count": 79,
   "id": "5efd8d4a",
   "metadata": {},
   "outputs": [
    {
     "data": {
      "text/plain": [
       "[0, 1, 4, 9, 16, 25, 36, 49, 64, 81]"
      ]
     },
     "execution_count": 79,
     "metadata": {},
     "output_type": "execute_result"
    }
   ],
   "source": [
    "list(map(lambda x: x**2, range(10)))"
   ]
  },
  {
   "cell_type": "code",
   "execution_count": 80,
   "id": "c746dbf2",
   "metadata": {},
   "outputs": [],
   "source": [
    "squares = [x**2 for x in range(10)]"
   ]
  },
  {
   "cell_type": "code",
   "execution_count": 81,
   "id": "957ff34a",
   "metadata": {},
   "outputs": [
    {
     "data": {
      "text/plain": [
       "[0, 1, 4, 9, 16, 25, 36, 49, 64, 81]"
      ]
     },
     "execution_count": 81,
     "metadata": {},
     "output_type": "execute_result"
    }
   ],
   "source": [
    "squares"
   ]
  },
  {
   "cell_type": "code",
   "execution_count": 82,
   "id": "ed121b60",
   "metadata": {},
   "outputs": [],
   "source": [
    "t = ('a','b','c')"
   ]
  },
  {
   "cell_type": "code",
   "execution_count": 83,
   "id": "7a4693b4",
   "metadata": {},
   "outputs": [
    {
     "data": {
      "text/plain": [
       "('a', 'b', 'c')"
      ]
     },
     "execution_count": 83,
     "metadata": {},
     "output_type": "execute_result"
    }
   ],
   "source": [
    "t"
   ]
  },
  {
   "cell_type": "code",
   "execution_count": 84,
   "id": "770c4490",
   "metadata": {},
   "outputs": [],
   "source": [
    "t = (('a','b'),('c','d'))"
   ]
  },
  {
   "cell_type": "code",
   "execution_count": 85,
   "id": "aa21f6bd",
   "metadata": {},
   "outputs": [
    {
     "data": {
      "text/plain": [
       "(('a', 'b'), ('c', 'd'))"
      ]
     },
     "execution_count": 85,
     "metadata": {},
     "output_type": "execute_result"
    }
   ],
   "source": [
    "t"
   ]
  },
  {
   "cell_type": "code",
   "execution_count": 86,
   "id": "93f8d824",
   "metadata": {},
   "outputs": [
    {
     "data": {
      "text/plain": [
       "'a'"
      ]
     },
     "execution_count": 86,
     "metadata": {},
     "output_type": "execute_result"
    }
   ],
   "source": [
    "t[0][0]"
   ]
  },
  {
   "cell_type": "code",
   "execution_count": 87,
   "id": "7cb41bae",
   "metadata": {},
   "outputs": [],
   "source": [
    "singleton = 'hello', "
   ]
  },
  {
   "cell_type": "code",
   "execution_count": 88,
   "id": "7153edab",
   "metadata": {},
   "outputs": [
    {
     "data": {
      "text/plain": [
       "('hello',)"
      ]
     },
     "execution_count": 88,
     "metadata": {},
     "output_type": "execute_result"
    }
   ],
   "source": [
    "singleton"
   ]
  },
  {
   "cell_type": "code",
   "execution_count": 89,
   "id": "4ed9c6af",
   "metadata": {},
   "outputs": [
    {
     "data": {
      "text/plain": [
       "'hello'"
      ]
     },
     "execution_count": 89,
     "metadata": {},
     "output_type": "execute_result"
    }
   ],
   "source": [
    "singleton[0]"
   ]
  },
  {
   "cell_type": "code",
   "execution_count": 90,
   "id": "37ac65ad",
   "metadata": {},
   "outputs": [
    {
     "ename": "IndexError",
     "evalue": "tuple index out of range",
     "output_type": "error",
     "traceback": [
      "\u001b[0;31m---------------------------------------------------------------------------\u001b[0m",
      "\u001b[0;31mIndexError\u001b[0m                                Traceback (most recent call last)",
      "Cell \u001b[0;32mIn[90], line 1\u001b[0m\n\u001b[0;32m----> 1\u001b[0m singleton[\u001b[38;5;241m1\u001b[39m]\n",
      "\u001b[0;31mIndexError\u001b[0m: tuple index out of range"
     ]
    }
   ],
   "source": [
    "singleton[1]"
   ]
  },
  {
   "cell_type": "code",
   "execution_count": 91,
   "id": "3d9add3d",
   "metadata": {},
   "outputs": [
    {
     "data": {
      "text/plain": [
       "'h'"
      ]
     },
     "execution_count": 91,
     "metadata": {},
     "output_type": "execute_result"
    }
   ],
   "source": [
    "singleton[0][0]"
   ]
  },
  {
   "cell_type": "code",
   "execution_count": 92,
   "id": "1d25b6a5",
   "metadata": {},
   "outputs": [
    {
     "data": {
      "text/plain": [
       "'hello'"
      ]
     },
     "execution_count": 92,
     "metadata": {},
     "output_type": "execute_result"
    }
   ],
   "source": [
    "singleton[0]"
   ]
  },
  {
   "cell_type": "code",
   "execution_count": 93,
   "id": "81fd455f",
   "metadata": {},
   "outputs": [
    {
     "data": {
      "text/plain": [
       "1"
      ]
     },
     "execution_count": 93,
     "metadata": {},
     "output_type": "execute_result"
    }
   ],
   "source": [
    "len(singleton)"
   ]
  },
  {
   "cell_type": "code",
   "execution_count": null,
   "id": "e00cd68c",
   "metadata": {},
   "outputs": [],
   "source": []
  }
 ],
 "metadata": {
  "kernelspec": {
   "display_name": "Python 3 (ipykernel)",
   "language": "python",
   "name": "python3"
  },
  "language_info": {
   "codemirror_mode": {
    "name": "ipython",
    "version": 3
   },
   "file_extension": ".py",
   "mimetype": "text/x-python",
   "name": "python",
   "nbconvert_exporter": "python",
   "pygments_lexer": "ipython3",
   "version": "3.11.3"
  }
 },
 "nbformat": 4,
 "nbformat_minor": 5
}
